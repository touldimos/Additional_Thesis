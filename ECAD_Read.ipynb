{
 "cells": [
  {
   "cell_type": "markdown",
   "metadata": {},
   "source": [
    "## FUNCTION\n",
    "### Given Path and value name, we get the summary of all the stations"
   ]
  },
  {
   "cell_type": "code",
   "execution_count": 1,
   "metadata": {},
   "outputs": [],
   "source": [
    "def read_ecad_sum(path, VAL):\n",
    "    import pandas as pd\n",
    "    import numpy as np\n",
    "    ecad = pd.read_csv(path, names = ['STAID', 'SOUID', 'DATE', VAL, 'QUALITY'], skiprows = 21, parse_dates = ['DATE']).set_index('DATE')\n",
    "    ecad = ecad[ecad['QUALITY'] == 0]\n",
    "    output = pd.DataFrame()\n",
    "    if ecad[VAL].count() >= 365 * 20 and ecad.index.max() >= pd.to_datetime('01/01/2000') and ecad.index.min() < pd.to_datetime('01/01/2000'):\n",
    "        output['Monthly'] = ecad[VAL].resample(rule = 'M').sum()\n",
    "        output['Month'] = output.index.month\n",
    "        months = np.arange(12)\n",
    "        for i in range(0, 12, 1):\n",
    "            months[i] = output[output[\"Month\"] == i + 1].mean().drop(['Month'])\n",
    "        station = ecad['STAID'].mean()\n",
    "        result = pd.DataFrame(data = months, index = ['jan', 'feb', 'mar', 'apr', 'may', 'jun', 'jul', 'aug', 'sep', 'oct', 'nov', 'dec'], columns = [station]).T\n",
    "    else:\n",
    "        result = np.zeros(12)\n",
    "        station = np.zeros(1)\n",
    "    return result, station\n",
    "\n",
    "def read_ecad_mean(path, VAL):\n",
    "    import pandas as pd\n",
    "    import numpy as np\n",
    "    ecad = pd.read_csv(path, names = ['STAID', 'SOUID', 'DATE', VAL, 'QUALITY'], skiprows = 21, parse_dates = ['DATE']).set_index('DATE')\n",
    "    ecad = ecad[ecad[VAL] != -9999]\n",
    "    output = pd.DataFrame()\n",
    "    if ecad[VAL].count() >= 365 * 20 and ecad.index.max() >= pd.to_datetime('01/01/2000') and ecad.index.min() < pd.to_datetime('01/01/2000'):\n",
    "        output['Monthly'] = ecad[VAL].resample(rule = 'M').mean()\n",
    "        output['Month'] = output.index.month\n",
    "        months = np.arange(12)\n",
    "        for i in range(0, 12, 1):\n",
    "            months[i] = output[output[\"Month\"] == i + 1].mean().drop(['Month'])\n",
    "        station = ecad['STAID'].mean()\n",
    "        result = pd.DataFrame(data = months, index = ['jan', 'feb', 'mar', 'apr', 'may', 'jun', 'jul', 'aug', 'sep', 'oct', 'nov', 'dec'], columns = [station]).T\n",
    "    else:\n",
    "        result = np.zeros(12)\n",
    "        station = np.zeros(1)\n",
    "    return result, station\n",
    "\n",
    "def PM(m, Tmean, Tmax, Tmin, RH, U, RS, phi, h):\n",
    "    import numpy as np\n",
    "    julian = {'jan': 16, 'feb' : 44, 'mar' : 75, 'apr' : 105, 'may' : 136, 'jun': 166, 'jul' : 197, 'aug' : 228, 'sep' : 258, 'oct' : 289, 'nov': 319, 'dec': 350}    \n",
    "    U2 = U * 0.1\n",
    "    Tmean = Tmean * 0.1\n",
    "    Tmin = Tmin * 0.1\n",
    "    Tmax = Tmax * 0.1\n",
    "    es1 = 0.6108 * np.exp((17.27 * Tmax)/(Tmax + 237.3))\n",
    "    es2 = 0.6108 * np.exp((17.27 * Tmin)/(Tmin + 237.3))\n",
    "    es = (es1 + es2) / 2\n",
    "    ea = RH * es/100\n",
    "    Delta = 4099 * (0.6108 * np.exp((17.27 * Tmean) / (Tmean + 237.3)) / ((Tmean + 237.3)**2))\n",
    "    gamma = 0.665 * 0.001 * 1013 / 10\n",
    "    dr = 1 + 0.033 * np.cos(2 * np.pi * julian[m] / 365)\n",
    "    d = 0.4093 * np.sin((2 * np.pi * julian[m] / 365) - 1.39)\n",
    "    omega_s = np.arccos(-1 * np.tan(phi) * np.tan(d))\n",
    "    Ra = (24 * 60 * 0.082 * dr / np.pi) * (omega_s * np.sin(phi) * np.sin(d) + np.cos(phi) * np.cos(d) * np.sin(omega_s))\n",
    "    Rso = (0.75 + 2 * 0.00001 * h) * Ra\n",
    "    Rs = 0.0864 * RS\n",
    "    Rns = 0.77 * Rs\n",
    "    Rnl = 4.903 * 0.000000001 * (((273.16 + Tmax)**4 + (273.16 + Tmin)**4) / 2) * (0.34 - 0.14 * np.sqrt(ea)) * (1.35 * (Rs/Rso) - 0.35)\n",
    "    Rn = Rns - Rnl\n",
    "    ETo = (0.408 * Delta * (Rn - 0)+(900 * gamma * U2 * (es - ea) / (273 + Tmean))) / (Delta + gamma * (1 + 0.34 * U2))\n",
    "    return ETo\n",
    "\n",
    "def TW(T, phi, C = 1):\n",
    "    days = pd.DataFrame(data = [31, 28, 31, 30, 31, 30, 31, 31, 30, 31, 30, 31], index = ['jan', 'feb', 'mar', 'apr', 'may', 'jun', 'jul', 'aug', 'sep', 'oct', 'nov', 'dec'], columns = ['n'])\n",
    "    days['julian'] = [16, 44, 75, 105, 136, 166, 197, 228, 258, 289, 319, 350]\n",
    "    Tmean = T.ravel() * 0.1\n",
    "    j = np.zeros(len(Tmean))\n",
    "    d = np.zeros(len(Tmean))\n",
    "    omega_s = np.zeros(len(Tmean))\n",
    "    N = np.zeros(len(Tmean))\n",
    "    Ep = np.zeros(len(Tmean))\n",
    "\n",
    "    for i in range(len(Tmean)):\n",
    "        d[i] = 0.4093 * np.sin((2 * np.pi * days['julian'][i] / 365) - 1.39)\n",
    "        omega_s[i] = np.arccos(-1 * np.tan(phi) * np.tan(d[i]))\n",
    "        N[i] = 24 * omega_s[i] / np.pi\n",
    "\n",
    "    for i in range(len(Tmean)):\n",
    "        if Tmean[i] < 0 :\n",
    "            j[i] = 0\n",
    "        else:\n",
    "            j[i] = (Tmean[i] / 5) ** 1.514\n",
    "\n",
    "    J = j.sum()\n",
    "    a = (6.75 * 10 ** -7) * J ** 3 - (7.71 * 10 ** -5) * J ** 2 + (1.79 * 10 ** -2) * J + 0.492\n",
    "\n",
    "    for i in range(len(Tmean)):\n",
    "        if Tmean[i] < 0 :\n",
    "            Ep[i] = 0            \n",
    "        else:\n",
    "            Ep[i] = (16 * (10 * Tmean[i] / J) ** a) * (days['n'][i] * N[i] / (12 * 30))\n",
    "            Ep[i] = Ep[i] / days['n'][i] * C\n",
    "\n",
    "    thrn = pd.DataFrame(Ep, index = n, columns = ['Ep Thornthwaite'])\n",
    "    return thrn"
   ]
  },
  {
   "cell_type": "markdown",
   "metadata": {},
   "source": [
    "# Run of function\n",
    "\n",
    "## Precipitation"
   ]
  },
  {
   "cell_type": "code",
   "execution_count": 2,
   "metadata": {},
   "outputs": [],
   "source": [
    "# import os\n",
    "# import pandas as pd\n",
    "# import numpy as np\n",
    "\n",
    "# entries = os.listdir(r'C:\\Users\\owner\\Videos\\ECA_blend_rr')\n",
    "\n",
    "# path = os.path.join(r\"C:\\Users\\owner\\Videos\", \"ECA_blend_rr\")\n",
    "# path = path + \"\\\\\"\n",
    "\n",
    "# precipitation = np.zeros((len(entries), 12))\n",
    "# station = np.zeros((len(entries), 1))\n",
    "\n",
    "# for i in range(0, len(entries)):\n",
    "#     precipitation[i], station[i] = read_ecad_sum(path + entries[i], 'p')\n",
    "    \n",
    "# prec = pd.DataFrame(data = precipitation, columns = ['jan', 'feb', 'mar', 'apr', 'may', 'jun', 'jul', 'aug', 'sep', 'oct', 'nov', 'dec'], index = station.ravel())\n",
    "# prec.index.rename('Station ID', inplace = True)\n",
    "# prec['sum'] = prec.sum(axis = 1)\n",
    "# prec = prec[(prec.T != 0).any()]\n",
    "# prec"
   ]
  },
  {
   "cell_type": "markdown",
   "metadata": {},
   "source": [
    "## Wind Speed"
   ]
  },
  {
   "cell_type": "code",
   "execution_count": null,
   "metadata": {},
   "outputs": [],
   "source": [
    "import os\n",
    "import pandas as pd\n",
    "import numpy as np\n",
    "\n",
    "entries = os.listdir(r\"C:\\Dimos\\database\\ECA_blend_fg\")\n",
    "\n",
    "path = os.path.join(r\"C:\\Dimos\\database\", \"ECA_blend_fg\")\n",
    "path = path + \"\\\\\"\n",
    "\n",
    "ws = np.zeros((len(entries), 12))\n",
    "station_ws = np.zeros((len(entries), 1))\n",
    "\n",
    "for i in range(0, len(entries)):\n",
    "    ws[i], station_ws[i] = read_ecad_mean(path + entries[i], 'U')\n",
    "\n",
    "wind = pd.DataFrame(data = ws, columns = ['jan', 'feb', 'mar', 'apr', 'may', 'jun', 'jul', 'aug', 'sep', 'oct', 'nov', 'dec'], index = station_ws.ravel())\n",
    "wind.index.rename('Station ID', inplace = True)\n",
    "wind['mean'] = wind.mean(axis = 1)\n",
    "wind = wind[(wind.T != 0).any()]\n",
    "wind"
   ]
  },
  {
   "cell_type": "markdown",
   "metadata": {},
   "source": [
    "## Relative Humidity"
   ]
  },
  {
   "cell_type": "code",
   "execution_count": null,
   "metadata": {},
   "outputs": [],
   "source": [
    "import os\n",
    "import pandas as pd\n",
    "import numpy as np\n",
    "\n",
    "entries = os.listdir(r\"C:\\Dimos\\database\\ECA_blend_hu\")\n",
    "\n",
    "path = os.path.join(r\"C:\\Dimos\\database\", \"ECA_blend_hu\")\n",
    "path = path + \"\\\\\"\n",
    "\n",
    "RelH = np.zeros((len(entries), 12))\n",
    "station_RH = np.zeros((len(entries), 1))\n",
    "\n",
    "for i in range(0, len(entries)):\n",
    "    RelH[i], station_RH[i] = read_ecad_mean(path + entries[i], 'RH')\n",
    "\n",
    "RH = pd.DataFrame(data = RelH, columns = ['jan', 'feb', 'mar', 'apr', 'may', 'jun', 'jul', 'aug', 'sep', 'oct', 'nov', 'dec'], index = station_RH.ravel())\n",
    "RH['mean'] = RH.mean(axis = 1)\n",
    "RH = RH[(RH.T != 0).any()]\n",
    "RH"
   ]
  },
  {
   "cell_type": "markdown",
   "metadata": {},
   "source": [
    "## Radiation"
   ]
  },
  {
   "cell_type": "code",
   "execution_count": null,
   "metadata": {},
   "outputs": [],
   "source": [
    "import os\n",
    "import pandas as pd\n",
    "import numpy as np\n",
    "\n",
    "entries = os.listdir(r\"C:\\Dimos\\database\\ECA_blend_qq\")\n",
    "\n",
    "path = os.path.join(r\"C:\\Dimos\\database\", \"ECA_blend_qq\")\n",
    "path = path + \"\\\\\"\n",
    "\n",
    "RS_ = np.zeros((len(entries), 12))\n",
    "station_RS = np.zeros((len(entries), 1))\n",
    "\n",
    "for i in range(0, len(entries)):\n",
    "    RS_[i], station_RS[i] = read_ecad_mean(path + entries[i], 'RS')\n",
    "\n",
    "RS = pd.DataFrame(data = RS_, columns = ['jan', 'feb', 'mar', 'apr', 'may', 'jun', 'jul', 'aug', 'sep', 'oct', 'nov', 'dec'], index = station_RS.ravel())\n",
    "RS.index.rename('Station ID', inplace = True)\n",
    "RS['mean'] = RS.mean(axis = 1)\n",
    "RS = RS[(RS.T != 0).any()]\n",
    "RS"
   ]
  },
  {
   "cell_type": "markdown",
   "metadata": {},
   "source": [
    "## Mean temperature"
   ]
  },
  {
   "cell_type": "code",
   "execution_count": null,
   "metadata": {},
   "outputs": [],
   "source": [
    "import os\n",
    "import pandas as pd\n",
    "import numpy as np\n",
    "\n",
    "entries = os.listdir(r\"C:\\Dimos\\database\\ECA_blend_tg\")\n",
    "\n",
    "path = os.path.join(r\"C:\\Dimos\\database\", \"ECA_blend_tg\")\n",
    "path = path + \"\\\\\"\n",
    "\n",
    "Tm = np.zeros((len(entries), 12))\n",
    "station_T = np.zeros((len(entries), 1))\n",
    "\n",
    "for i in range(0, len(entries)):\n",
    "    Tm[i], station_T[i] = read_ecad_mean(path + entries[i], 'Tmean')\n",
    "    \n",
    "T = pd.DataFrame(data = Tm, columns = ['jan', 'feb', 'mar', 'apr', 'may', 'jun', 'jul', 'aug', 'sep', 'oct', 'nov', 'dec'], index = station_T.ravel())\n",
    "T.index.rename('Station ID', inplace = True)\n",
    "T['mean'] = T.mean(axis = 1)\n",
    "T = T[(T.T != 0).any()]\n",
    "T"
   ]
  },
  {
   "cell_type": "markdown",
   "metadata": {},
   "source": [
    "## Minimum temperature"
   ]
  },
  {
   "cell_type": "code",
   "execution_count": null,
   "metadata": {},
   "outputs": [],
   "source": [
    "import os\n",
    "import pandas as pd\n",
    "import numpy as np\n",
    "\n",
    "entries = os.listdir(r\"C:\\Dimos\\database\\ECA_blend_tn\")\n",
    "\n",
    "path = os.path.join(r\"C:\\Dimos\\database\", \"ECA_blend_tn\")\n",
    "path = path + \"\\\\\"\n",
    "\n",
    "Tminimum = np.zeros((len(entries), 12))\n",
    "station_Tmin = np.zeros((len(entries), 1))\n",
    "\n",
    "for i in range(0, len(entries)):\n",
    "    Tminimum[i], station_Tmin[i] = read_ecad_mean(path + entries[i], 'Tmin')\n",
    "    \n",
    "Tmin = pd.DataFrame(data = Tminimum, columns = ['jan', 'feb', 'mar', 'apr', 'may', 'jun', 'jul', 'aug', 'sep', 'oct', 'nov', 'dec'], index = station_Tmin.ravel())\n",
    "Tmin.index.rename('Station ID', inplace = True)\n",
    "Tmin['mean'] = Tmin.mean(axis = 1)\n",
    "Tmin = Tmin[(Tmin.T != 0).any()]\n",
    "Tmin"
   ]
  },
  {
   "cell_type": "markdown",
   "metadata": {},
   "source": [
    "## Maximum temperature"
   ]
  },
  {
   "cell_type": "code",
   "execution_count": null,
   "metadata": {},
   "outputs": [],
   "source": [
    "import os\n",
    "import pandas as pd\n",
    "import numpy as np\n",
    "\n",
    "entries = os.listdir(r\"C:\\Dimos\\database\\ECA_blend_tx\")\n",
    "\n",
    "path = os.path.join(r\"C:\\Dimos\\database\", \"ECA_blend_tx\")\n",
    "path = path + \"\\\\\"\n",
    "\n",
    "Tmaximum = np.zeros((len(entries), 12))\n",
    "station_Tmax = np.zeros((len(entries), 1))\n",
    "\n",
    "for i in range(0, len(entries)):\n",
    "    Tmaximum[i], station_Tmax[i] = read_ecad_mean(path + entries[i], 'Tmax')\n",
    "    \n",
    "Tmax = pd.DataFrame(data = Tmaximum, columns = ['jan', 'feb', 'mar', 'apr', 'may', 'jun', 'jul', 'aug', 'sep', 'oct', 'nov', 'dec'], index = station_Tmax.ravel())\n",
    "Tmax.index.rename('Station ID', inplace = True)\n",
    "Tmax['mean'] = Tmax.mean(axis = 1)\n",
    "Tmax = Tmax[(Tmax.T != 0).any()]\n",
    "Tmax"
   ]
  },
  {
   "cell_type": "markdown",
   "metadata": {},
   "source": [
    "## Export"
   ]
  },
  {
   "cell_type": "code",
   "execution_count": null,
   "metadata": {},
   "outputs": [],
   "source": [
    "T.to_csv(r'C:\\Users\\owner\\Google Drive 2\\MSc\\TU DELFT - Water Managment\\Additional Thesis\\Results\\validation ECA&D\\T.txt', sep=';', index=True, header=True)\n",
    "Tmax.to_csv(r'C:\\Users\\owner\\Google Drive 2\\MSc\\TU DELFT - Water Managment\\Additional Thesis\\Results\\validation ECA&D\\Tmax.txt', sep=';', index=True, header=True)\n",
    "Tmin.to_csv(r'C:\\Users\\owner\\Google Drive 2\\MSc\\TU DELFT - Water Managment\\Additional Thesis\\Results\\validation ECA&D\\Tmin.txt', sep=';', index=True, header=True)\n",
    "wind.to_csv(r'C:\\Users\\owner\\Google Drive 2\\MSc\\TU DELFT - Water Managment\\Additional Thesis\\Results\\validation ECA&D\\U.txt', sep=';', index=True, header=True)\n",
    "RH.to_csv(r'C:\\Users\\owner\\Google Drive 2\\MSc\\TU DELFT - Water Managment\\Additional Thesis\\Results\\validation ECA&D\\RH.txt', sep=';', index=True, header=True)\n",
    "RS.to_csv(r'C:\\Users\\owner\\Google Drive 2\\MSc\\TU DELFT - Water Managment\\Additional Thesis\\Results\\validation ECA&D\\QQ.txt', sep=';', index=True, header=True)"
   ]
  },
  {
   "cell_type": "markdown",
   "metadata": {},
   "source": [
    "# Find mutual stations"
   ]
  },
  {
   "cell_type": "code",
   "execution_count": null,
   "metadata": {},
   "outputs": [],
   "source": [
    "hu = RH\n",
    "qq = RS\n",
    "tmeann = T\n",
    "tmaxx = Tmax\n",
    "tminn = Tmin\n",
    "windspeed = wind\n",
    "\n",
    "idx = qq.index.intersection(hu.index)\n",
    "idx2  = windspeed.index.intersection(tmeann.index)\n",
    "idx3 = tmaxx.index.intersection(tminn.index)\n",
    "idx = pd.DataFrame(index = idx)\n",
    "idx2  = pd.DataFrame(index = idx2)\n",
    "idx3 = pd.DataFrame(index = idx3)\n",
    "mutuals = idx.index.intersection(idx2.index)\n",
    "mutuals = pd.DataFrame(index = mutuals)\n",
    "mutuals = mutuals.index.intersection(idx3.index)\n",
    "mutuals = pd.DataFrame(index = mutuals)\n",
    "tmeann = pd.read_csv(r'C:\\Dimos\\database\\whole data\\Tmean.txt', skiprows = 18, names = ['STAID','Station Name', 'CN', 'Lat', 'Lon', 'h']).set_index('STAID')\n",
    "stations_all = mutuals.merge(tmeann, left_index = True, right_index = True)\n",
    "phi = np.zeros((len(stations_all['Lat']), 1))\n",
    "for i in range(len(stations_all['Lat'])):\n",
    "    phi[i] = (int(stations_all['Lat'].iloc[i][0:3]) + int(stations_all['Lat'].iloc[i][4:6])/60 + int(stations_all['Lat'].iloc[i][7:9])/3600)\n",
    "stations_all['phi'] = phi * np.pi / 180\n",
    "stations_all.to_csv(r'C:\\Users\\owner\\Google Drive 2\\MSc\\TU DELFT - Water Managment\\Additional Thesis\\Results\\validation ECA&D\\stations.txt', sep=';', index=True, header=True)\n",
    "stations_all\n"
   ]
  },
  {
   "cell_type": "markdown",
   "metadata": {},
   "source": [
    "## Apply Penman Monteith"
   ]
  },
  {
   "cell_type": "code",
   "execution_count": null,
   "metadata": {
    "scrolled": true
   },
   "outputs": [],
   "source": [
    "evap_jan, evap_feb, evap_mar, evap_apr, evap_may, evap_jun, evap_jul, evap_aug, evap_sep, evap_oct, evap_nov, evap_dec = ([] for i in range(12))\n",
    "for i in stations_all.index:\n",
    "    evap_jan.append(PM('jan', T.loc[i:i, 'jan'], Tmax.loc[i:i, 'jan'], Tmin.loc[i:i, 'jan'], RH.loc[i:i, 'jan'], wind.loc[i:i, 'jan'], RS.loc[i:i, 'jan'], stations_all.loc[i:i, 'phi'], stations_all.loc[i:i, 'h']).values)\n",
    "    evap_feb.append(PM('feb', T.loc[i:i, 'feb'], Tmax.loc[i:i, 'feb'], Tmin.loc[i:i, 'feb'], RH.loc[i:i, 'feb'], wind.loc[i:i, 'feb'], RS.loc[i:i, 'feb'], stations_all.loc[i:i, 'phi'], stations_all.loc[i:i, 'h']).values)\n",
    "    evap_mar.append(PM('mar', T.loc[i:i, 'mar'], Tmax.loc[i:i, 'mar'], Tmin.loc[i:i, 'mar'], RH.loc[i:i, 'mar'], wind.loc[i:i, 'mar'], RS.loc[i:i, 'mar'], stations_all.loc[i:i, 'phi'], stations_all.loc[i:i, 'h']).values)\n",
    "    evap_apr.append(PM('apr', T.loc[i:i, 'apr'], Tmax.loc[i:i, 'apr'], Tmin.loc[i:i, 'apr'], RH.loc[i:i, 'apr'], wind.loc[i:i, 'apr'], RS.loc[i:i, 'apr'], stations_all.loc[i:i, 'phi'], stations_all.loc[i:i, 'h']).values)\n",
    "    evap_may.append(PM('may', T.loc[i:i, 'may'], Tmax.loc[i:i, 'may'], Tmin.loc[i:i, 'may'], RH.loc[i:i, 'may'], wind.loc[i:i, 'may'], RS.loc[i:i, 'may'], stations_all.loc[i:i, 'phi'], stations_all.loc[i:i, 'h']).values)\n",
    "    evap_jun.append(PM('jun', T.loc[i:i, 'jun'], Tmax.loc[i:i, 'jun'], Tmin.loc[i:i, 'jun'], RH.loc[i:i, 'jun'], wind.loc[i:i, 'jun'], RS.loc[i:i, 'jun'], stations_all.loc[i:i, 'phi'], stations_all.loc[i:i, 'h']).values)\n",
    "    evap_jul.append(PM('jul', T.loc[i:i, 'jul'], Tmax.loc[i:i, 'jul'], Tmin.loc[i:i, 'jul'], RH.loc[i:i, 'jul'], wind.loc[i:i, 'jul'], RS.loc[i:i, 'jul'], stations_all.loc[i:i, 'phi'], stations_all.loc[i:i, 'h']).values)\n",
    "    evap_aug.append(PM('aug', T.loc[i:i, 'aug'], Tmax.loc[i:i, 'aug'], Tmin.loc[i:i, 'aug'], RH.loc[i:i, 'aug'], wind.loc[i:i, 'aug'], RS.loc[i:i, 'aug'], stations_all.loc[i:i, 'phi'], stations_all.loc[i:i, 'h']).values)\n",
    "    evap_sep.append(PM('sep', T.loc[i:i, 'sep'], Tmax.loc[i:i, 'sep'], Tmin.loc[i:i, 'sep'], RH.loc[i:i, 'sep'], wind.loc[i:i, 'sep'], RS.loc[i:i, 'sep'], stations_all.loc[i:i, 'phi'], stations_all.loc[i:i, 'h']).values)\n",
    "    evap_oct.append(PM('oct', T.loc[i:i, 'oct'], Tmax.loc[i:i, 'oct'], Tmin.loc[i:i, 'oct'], RH.loc[i:i, 'oct'], wind.loc[i:i, 'oct'], RS.loc[i:i, 'oct'], stations_all.loc[i:i, 'phi'], stations_all.loc[i:i, 'h']).values)\n",
    "    evap_nov.append(PM('nov', T.loc[i:i, 'nov'], Tmax.loc[i:i, 'nov'], Tmin.loc[i:i, 'nov'], RH.loc[i:i, 'nov'], wind.loc[i:i, 'nov'], RS.loc[i:i, 'nov'], stations_all.loc[i:i, 'phi'], stations_all.loc[i:i, 'h']).values)\n",
    "    evap_dec.append(PM('dec', T.loc[i:i, 'dec'], Tmax.loc[i:i, 'dec'], Tmin.loc[i:i, 'dec'], RH.loc[i:i, 'dec'], wind.loc[i:i, 'dec'], RS.loc[i:i, 'dec'], stations_all.loc[i:i, 'phi'], stations_all.loc[i:i, 'h']).values)"
   ]
  },
  {
   "cell_type": "code",
   "execution_count": null,
   "metadata": {},
   "outputs": [],
   "source": [
    "evap = pd.DataFrame(evap_jan, columns = ['Jan'], index = [stations_all.index])\n",
    "evap['Feb'] = np.array(evap_feb).ravel()\n",
    "evap['Mar'] = np.array(evap_mar).ravel()\n",
    "evap['Apr'] = np.array(evap_apr).ravel()\n",
    "evap['May'] = np.array(evap_may).ravel()\n",
    "evap['Jun'] = np.array(evap_jun).ravel()\n",
    "evap['Jul'] = np.array(evap_jul).ravel()\n",
    "evap['Aug'] = np.array(evap_aug).ravel()\n",
    "evap['Sep'] = np.array(evap_sep).ravel()\n",
    "evap['Oct'] = np.array(evap_oct).ravel()\n",
    "evap['Nov'] = np.array(evap_nov).ravel()\n",
    "evap['Dec'] = np.array(evap_dec).ravel()\n",
    "evap = evap[(evap >= 0).all(1)]\n",
    "evap.to_csv(r'C:\\Users\\owner\\Google Drive 2\\MSc\\TU DELFT - Water Managment\\Additional Thesis\\Results\\validation ECA&D\\PM_ETo.txt', sep=';', index=True, header=True)\n",
    "evap"
   ]
  },
  {
   "cell_type": "markdown",
   "metadata": {},
   "source": [
    "## APPLY THORNTHWAITE"
   ]
  },
  {
   "cell_type": "code",
   "execution_count": null,
   "metadata": {},
   "outputs": [],
   "source": [
    "T2 = T.drop(['mean'], axis = 1)\n",
    "THORN = []\n",
    "for i in stations_all.index:\n",
    "    THORN.append((TW(T2.loc[i:i].values, stations_all.loc[i:i, 'phi']).values).T)\n",
    "evap_th = pd.DataFrame((np.array(THORN).ravel()).reshape(len(stations_all.index), 12), columns = ['jan', 'feb', 'mar', 'apr', 'may', 'jun', 'jul', 'aug', 'sep', 'oct', 'nov', 'dec'], index = stations_all.index)\n",
    "evap_th = evap_th[(evap_th >= 0).all(1)]\n",
    "evap_th.to_csv(r'C:\\Users\\owner\\Google Drive 2\\MSc\\TU DELFT - Water Managment\\Additional Thesis\\Results\\validation ECA&D\\TW_ETo.txt', sep=';', index=True, header=True)\n",
    "evap_th"
   ]
  },
  {
   "cell_type": "markdown",
   "metadata": {},
   "source": [
    "## Plot station network"
   ]
  },
  {
   "cell_type": "code",
   "execution_count": null,
   "metadata": {},
   "outputs": [],
   "source": [
    "stations = pd.read_csv(r\"C:\\Users\\owner\\Google Drive 2\\MSc\\TU DELFT - Water Managment\\Additional Thesis\\Results\\validation ECA&D\\stations.txt\", delimiter = ';', index_col = 0)\n",
    "phi = np.zeros(len(stations['Lat']))\n",
    "labda = np.zeros(len(stations['Lat']))\n",
    "\n",
    "for i in range(len(stations)):\n",
    "    phi[i] = (int(stations['Lat'].iloc[i][0:3]) + int(stations['Lat'].iloc[i][4:6])/60 + int(stations['Lat'].iloc[i][7:9])/3600)\n",
    "    labda[i] = (int(stations['Lon'].iloc[i][0:4]) + int(stations['Lon'].iloc[i][5:7])/60 + int(stations['Lon'].iloc[i][8:10])/3600)\n",
    "\n",
    "import os\n",
    "os.environ['PROJ_LIB'] = 'C:/Users/owner/Anaconda3/Lib/site-packages/mpl_toolkits/basemap'\n",
    "\n",
    "from mpl_toolkits.basemap import Basemap\n",
    "import numpy as np\n",
    "import matplotlib.pyplot as plt\n",
    "plt.figure(figsize = (20, 20))\n",
    "axs = plt.subplot(111)\n",
    "m=Basemap()\n",
    " \n",
    "# Then add element: draw coast line, map boundary, and fill continents:\n",
    "m.drawcoastlines()\n",
    "m.drawmapboundary()\n",
    "m.fillcontinents()\n",
    "parallels = np.arange(-90.,91.,15.)\n",
    "m.drawparallels(parallels,labels=[False,True,True,False])\n",
    "meridians = np.arange(-180.,181.,25.)\n",
    "m.drawmeridians(meridians,labels=[True,False,False,True])\n",
    "m.drawmapboundary(fill_color='white')\n",
    "axs.plot(labda, phi, 'o')\n",
    "plt.plot();"
   ]
  },
  {
   "cell_type": "code",
   "execution_count": null,
   "metadata": {},
   "outputs": [],
   "source": [
    "evap.describe()"
   ]
  },
  {
   "cell_type": "code",
   "execution_count": null,
   "metadata": {},
   "outputs": [],
   "source": [
    "evap_th.describe()"
   ]
  }
 ],
 "metadata": {
  "kernelspec": {
   "display_name": "Python 3",
   "language": "python",
   "name": "python3"
  },
  "language_info": {
   "codemirror_mode": {
    "name": "ipython",
    "version": 3
   },
   "file_extension": ".py",
   "mimetype": "text/x-python",
   "name": "python",
   "nbconvert_exporter": "python",
   "pygments_lexer": "ipython3",
   "version": "3.7.6"
  }
 },
 "nbformat": 4,
 "nbformat_minor": 4
}
